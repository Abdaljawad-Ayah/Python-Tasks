{
 "metadata": {
  "language_info": {
   "codemirror_mode": {
    "name": "ipython",
    "version": 3
   },
   "file_extension": ".py",
   "mimetype": "text/x-python",
   "name": "python",
   "nbconvert_exporter": "python",
   "pygments_lexer": "ipython3",
   "version": 3
  },
  "orig_nbformat": 2
 },
 "nbformat": 4,
 "nbformat_minor": 2,
 "cells": [
  {
   "source": [
    "num1 = 5\n",
    "num3  = 6\n",
    "\n",
    "print(num1 > num3)"
   ],
   "cell_type": "code",
   "metadata": {},
   "execution_count": null,
   "outputs": [
    {
     "output_type": "error",
     "ename": "Error",
     "evalue": "Failed to connect to remote Jupyter notebook.\r\nCheck that the Jupyter Server URI setting has a valid running server specified.\r\nhttps://hostname:8080/\r\nError: Kernel Python 3 is not usable. Check the Jupyter output tab for more information.",
     "traceback": [
      "Error:",
      "at new t.WrappedError (c:\\Users\\PC\\.vscode\\extensions\\ms-toolsai.jupyter-2021.3.619093157\\out\\client\\extension.js:1:152610)",
      "at c:\\Users\\PC\\.vscode\\extensions\\ms-toolsai.jupyter-2021.3.619093157\\out\\client\\extension.js:32:659061",
      "at runMicrotasks (<anonymous>)",
      "at processTicksAndRejections (internal/process/task_queues.js:97:5)",
      "Error: Kernel Python 3 is not usable. Check the Jupyter output tab for more information.",
      "at w.createNewKernelSession (c:\\Users\\PC\\.vscode\\extensions\\ms-toolsai.jupyter-2021.3.619093157\\out\\client\\extension.js:49:547088)",
      "at runMicrotasks (<anonymous>)",
      "at processTicksAndRejections (internal/process/task_queues.js:97:5)",
      "at w.connect (c:\\Users\\PC\\.vscode\\extensions\\ms-toolsai.jupyter-2021.3.619093157\\out\\client\\extension.js:49:546497)",
      "at m.startNew (c:\\Users\\PC\\.vscode\\extensions\\ms-toolsai.jupyter-2021.3.619093157\\out\\client\\extension.js:49:541849)",
      "at _.connect (c:\\Users\\PC\\.vscode\\extensions\\ms-toolsai.jupyter-2021.3.619093157\\out\\client\\extension.js:49:512316)",
      "at c:\\Users\\PC\\.vscode\\extensions\\ms-toolsai.jupyter-2021.3.619093157\\out\\client\\extension.js:32:657553"
     ]
    }
   ]
  },
  {
   "cell_type": "code",
   "execution_count": null,
   "metadata": {},
   "outputs": [],
   "source": []
  }
 ]
}